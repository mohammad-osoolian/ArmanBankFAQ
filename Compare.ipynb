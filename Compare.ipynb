{
  "cells": [
    {
      "cell_type": "code",
      "execution_count": null,
      "metadata": {
        "id": "hrWtxbBPkZil"
      },
      "outputs": [],
      "source": [
        "! rm -rf sample_data/"
      ]
    },
    {
      "cell_type": "markdown",
      "metadata": {
        "id": "QSHpVRIzNDCD"
      },
      "source": [
        "# pip installs"
      ]
    },
    {
      "cell_type": "code",
      "execution_count": null,
      "metadata": {
        "colab": {
          "base_uri": "https://localhost:8080/"
        },
        "id": "uVpgzhbdNCd3",
        "outputId": "05106284-f4cf-4656-f8b4-93259fd5d936"
      },
      "outputs": [
        {
          "name": "stdout",
          "output_type": "stream",
          "text": [
            "\u001b[2K   \u001b[90m━━━━━━━━━━━━━━━━━━━━━━━━━━━━━━━━━━━━━━━━\u001b[0m \u001b[32m60.1/60.1 MB\u001b[0m \u001b[31m13.3 MB/s\u001b[0m eta \u001b[36m0:00:00\u001b[0m\n",
            "\u001b[?25h"
          ]
        }
      ],
      "source": [
        "! pip install bitsandbytes -q"
      ]
    },
    {
      "cell_type": "markdown",
      "metadata": {
        "id": "KNsSyTRykogy"
      },
      "source": [
        "# imports"
      ]
    },
    {
      "cell_type": "code",
      "execution_count": 1,
      "metadata": {
        "id": "PiVZSKg2knfZ"
      },
      "outputs": [],
      "source": [
        "import pandas as pd\n",
        "import torch\n",
        "import time\n",
        "from sentence_transformers import SentenceTransformer\n",
        "from transformers import AutoTokenizer, AutoModelForCausalLM, BitsAndBytesConfig\n",
        "import pandas as pd\n",
        "import torch\n",
        "from torch.utils.data import DataLoader, TensorDataset, Dataset\n",
        "import json"
      ]
    },
    {
      "cell_type": "code",
      "execution_count": 2,
      "metadata": {
        "id": "o5-htGvKvAQs"
      },
      "outputs": [],
      "source": [
        "device = 'cuda' if torch.cuda.is_available() else 'cpu'\n",
        "\n",
        "sheet_path = '/content/Ka-ChatBot_BenchMark.xlsx'\n",
        "\n",
        "encoder_model_id = \"mohammad-osoolian/arman-tooka2-finetuned\"\n",
        "llm_model_id = \"Qwen/Qwen3-4B-Instruct-2507\""
      ]
    },
    {
      "cell_type": "markdown",
      "metadata": {
        "id": "T3Ttd2AqO7aB"
      },
      "source": [
        "# Load Arman Bank sheet and process"
      ]
    },
    {
      "cell_type": "code",
      "execution_count": 3,
      "metadata": {
        "id": "chkqlVbgvJf7"
      },
      "outputs": [],
      "source": [
        "faq_df = pd.read_excel(sheet_path, sheet_name=\"faq\")\n",
        "samples_df = pd.read_excel(sheet_path, sheet_name=\"samples\")\n",
        "\n",
        "faqs = faq_df['faq'].tolist()\n",
        "ids = faq_df['idx'].tolist()\n",
        "categories = faq_df['category'].tolist()\n",
        "\n",
        "samples = samples_df['sample'].tolist()\n",
        "labels = torch.tensor(samples_df['gt_idx'].tolist())\n",
        "\n",
        "faq_list = zip(ids, faqs, categories)\n"
      ]
    },
    {
      "cell_type": "markdown",
      "metadata": {
        "id": "ci1qMfpgPbRh"
      },
      "source": [
        "# Load LLM model and sentence-transformer model"
      ]
    },
    {
      "cell_type": "code",
      "execution_count": 4,
      "metadata": {
        "colab": {
          "base_uri": "https://localhost:8080/",
          "height": 208,
          "referenced_widgets": [
            "2f8b27c27d844291a180621db63b5c31",
            "cf3c6d87b7c7405290e7b0b101c074ed",
            "bd4f71f5709c4065a31ed2b2e9b3888f",
            "e481e189705442b1a53314c3723bc8d9",
            "511d62e986ce4309ad2e2809a26f0088",
            "3174e2bd21eb4bccb817dd54132ba646",
            "7c8742c767dc464185479fdffa6584fd",
            "3506a7e50976406fa2dc5db2266d395b",
            "6035f9b041a948fbbe4e24d887740c7a",
            "2baed92fc4184cad86339ba2bbe450a8",
            "9cea4d4004b448b69eedc9fb8f392ae5"
          ]
        },
        "id": "R3KAQAlvPflG",
        "outputId": "e5bacd75-9be4-4152-ce88-c9ffe86d0ac7"
      },
      "outputs": [
        {
          "name": "stderr",
          "output_type": "stream",
          "text": [
            "/usr/local/lib/python3.12/dist-packages/huggingface_hub/utils/_auth.py:94: UserWarning: \n",
            "The secret `HF_TOKEN` does not exist in your Colab secrets.\n",
            "To authenticate with the Hugging Face Hub, create a token in your settings tab (https://huggingface.co/settings/tokens), set it as secret in your Google Colab and restart your session.\n",
            "You will be able to reuse this secret in all of your notebooks.\n",
            "Please note that authentication is recommended but still optional to access public models or datasets.\n",
            "  warnings.warn(\n"
          ]
        },
        {
          "data": {
            "application/vnd.jupyter.widget-view+json": {
              "model_id": "2f8b27c27d844291a180621db63b5c31",
              "version_major": 2,
              "version_minor": 0
            },
            "text/plain": [
              "Loading checkpoint shards:   0%|          | 0/3 [00:00<?, ?it/s]"
            ]
          },
          "metadata": {},
          "output_type": "display_data"
        }
      ],
      "source": [
        "bnb_config = BitsAndBytesConfig(\n",
        "    load_in_4bit=True,\n",
        "    bnb_4bit_use_double_quant=True,    # nested quantization (saves memory)\n",
        "    bnb_4bit_quant_type=\"nf4\",         # recommended quantization data type\n",
        "    bnb_4bit_compute_dtype=torch.float16,  # computations in float16\n",
        ")\n",
        "\n",
        "\n",
        "tokenizer = AutoTokenizer.from_pretrained(llm_model_id)\n",
        "llm_model = AutoModelForCausalLM.from_pretrained(\n",
        "    llm_model_id,\n",
        "    device_map=device,\n",
        "    quantization_config=bnb_config,\n",
        ")"
      ]
    },
    {
      "cell_type": "code",
      "execution_count": 5,
      "metadata": {
        "id": "Cjn9o7RVPlYy"
      },
      "outputs": [],
      "source": [
        "tokenizer.padding_side = 'left'\n",
        "# tokenizer.pad_token = tokenizer.eos_token # not used for qwen3\n",
        "# model.generation_config.pad_token_id = tokenizer.pad_token_id # not used for qwen3"
      ]
    },
    {
      "cell_type": "code",
      "execution_count": 6,
      "metadata": {
        "id": "SSQrBKSvRGdN"
      },
      "outputs": [],
      "source": [
        "encoder_model = SentenceTransformer(encoder_model_id)"
      ]
    },
    {
      "cell_type": "markdown",
      "metadata": {
        "id": "kYc0OEtfR3EK"
      },
      "source": [
        "# utils and functions"
      ]
    },
    {
      "cell_type": "code",
      "execution_count": null,
      "metadata": {
        "colab": {
          "base_uri": "https://localhost:8080/"
        },
        "id": "DXGWI7lRR4r8",
        "outputId": "0000c754-ddbc-4c43-ba68-6cc27a40879b"
      },
      "outputs": [
        {
          "name": "stdout",
          "output_type": "stream",
          "text": [
            "You are given a user’s question and a list of predefined questions with IDs.\n",
            "Your task is to find the most semantically similar predefined question.\n",
            "\n",
            "Predefined questions:\n",
            "id: 1 - چرا من در احراز هویت افتتاح حساب خطای عدم تطبیق تصویر می گیرم؟ \n",
            "id: 2 - جگونه افتتاح حساب غیر حضوری کنم ؟\n",
            "id: 3 - چگونه میتوانم حساب خودم را ببندم؟\n",
            "id: 4 - چگونه پرداخت قبض با حساب/کارت انجام دهم؟\n",
            "id: 5 - چرا در زمان کارت به کارت اعلام می کند شماره در سامانه شاهکار ثبت نشده\n",
            "id: 6 - چگونه کارت را از مسدودی در بیاورم؟\n",
            "id: 7 - چگونه کارت خود را مسدود کنم؟ \n",
            "id: 8 - با سلام چه جوري قسط وام رو پرداخت کنيم ؟\n",
            "id: 9 - چگونه رمز پویا را فعال کنم ؟\n",
            "id: 10 - چرا من در باشگاه مشتریان نمی تونم تسهیلات بالاتر از 5 میلیون تومان را دریافت کنم ؟ \n",
            "id: 11 - نحوه امتیاز دهی در باشگاه مشتریان چگونه است؟\n",
            "id: 12 - با چه رتبه ای، می‌توانم کدام تسهیلات را دریافت کنم ؟ \n",
            "id: 13 - چگونه رمز ورود خود را تغییر دهم ؟\n",
            "id: 14 - چگونه رمز اول برای کارت خود انتخاب کنم ؟\n",
            "id: 15 - چگونه رمز اول کارت خود را تغییر دهم ؟\n",
            "id: 16 - من یک واریزی داشتم میخواهم در ArmanBank آن را چک کنم؟\n",
            "id: 17 - امکان دانلود فايل بصورت PDFوجود ندارد . فقط اکسل صورتحساب قابل چاپ هست \n",
            "id: 18 - چگونه میتوانم صورتحساب سالهای قبل را دریافت کنم \n",
            "id: 19 - سقف تراکنش کارت به کارت چقدر است\n",
            "id: 20 - کارت به کارت کردم  ناموفق بود ولي از حسابم کسر کرده\n",
            "id: 21 - چگونه برای تسهیلات ازدواج اقدام کنم ؟ \n",
            "id: 22 - چگونه برای تسهیلات فرزند آوری اقدام کنم ؟ \n",
            "id: 23 - چگونه برای تسهیلات ودیعه مسکن اقدام کنم ؟ \n",
            "id: 24 - من کد مالیاتی ندارم در زمان دریافت تسهیلات کد مالیاتی می خواهد\n",
            "\n",
            "Rules:\n",
            "- Compare based on meaning, not just keywords.\n",
            "- All questions are in Persian. Do not translate, only compare.\n",
            "- Return only a JSON object in the format: {\"id\": \"<id>\"}.\n",
            "- Do not include explanations or any other text.\n"
          ]
        }
      ],
      "source": [
        "# make system prompt\n",
        "# best performace for qwen3\n",
        "instruction = \"\"\"You are given a user’s question and a list of predefined questions with IDs.\n",
        "Your task is to find the most semantically similar predefined question.\"\"\"\n",
        "\n",
        "faq_list = \"Predefined questions:\\n\" + '\\n'.join(f\"id: {id} - {q}\" for (id, q, cat) in zip(ids, faqs, categories))\n",
        "\n",
        "rules = \"\"\"Rules:\n",
        "- Compare based on meaning, not just keywords.\n",
        "- All questions are in Persian. Do not translate, only compare.\n",
        "- Return only a JSON object in the format: {\"id\": \"<id>\"}.\n",
        "- Do not include explanations or any other text.\"\"\"\n",
        "\n",
        "\n",
        "sysprompt = f\"{instruction}\\n\\n{faq_list}\\n\\n{rules}\"\n",
        "print(sysprompt)"
      ]
    },
    {
      "cell_type": "code",
      "execution_count": 8,
      "metadata": {
        "id": "NtIByuEFSDD3"
      },
      "outputs": [],
      "source": [
        "# custom dataset that convert samples to chat message format for llm inference\n",
        "\n",
        "class QuestionDataset(Dataset):\n",
        "  def __init__(self, questions, system_prompt):\n",
        "    self.questions = questions\n",
        "    self.system_prompt = system_prompt\n",
        "\n",
        "  def __len__(self):\n",
        "    return len(self.questions)\n",
        "\n",
        "  def __getitem__(self, idx):\n",
        "    messages = [\n",
        "      {\"role\": \"system\", \"content\": self.system_prompt},\n",
        "      {\"role\": \"user\", \"content\": self.questions[idx]},\n",
        "    ]\n",
        "    return messages\n"
      ]
    },
    {
      "cell_type": "code",
      "execution_count": 9,
      "metadata": {
        "id": "06FzhAlzSYsS"
      },
      "outputs": [],
      "source": [
        "# collator function that does the tokenizing and padding\n",
        "\n",
        "def collate_fn(batch):\n",
        "  return tokenizer.apply_chat_template(\n",
        "      batch, padding=True,\n",
        "      add_generation_prompt=True,\n",
        "      return_tensors='pt',\n",
        "      return_dict=True).to(device)"
      ]
    },
    {
      "cell_type": "markdown",
      "metadata": {
        "id": "U3o0T1VlTqNF"
      },
      "source": [
        "# Prediction"
      ]
    },
    {
      "cell_type": "markdown",
      "metadata": {
        "id": "Nvflk6H0TxBW"
      },
      "source": [
        "## LLM and prompt"
      ]
    },
    {
      "cell_type": "code",
      "execution_count": 10,
      "metadata": {
        "id": "8lrY70CIT4Ht"
      },
      "outputs": [],
      "source": [
        "userqs_ds = QuestionDataset(samples, sysprompt)\n",
        "dataloader = DataLoader(userqs_ds, shuffle=False, batch_size=16, collate_fn=collate_fn)"
      ]
    },
    {
      "cell_type": "code",
      "execution_count": 11,
      "metadata": {
        "colab": {
          "base_uri": "https://localhost:8080/"
        },
        "id": "IwNBPPavT97C",
        "outputId": "90af29e0-28d4-4143-84ec-64009341ec07"
      },
      "outputs": [
        {
          "name": "stderr",
          "output_type": "stream",
          "text": [
            "The following generation flags are not valid and may be ignored: ['temperature', 'top_p', 'top_k']. Set `TRANSFORMERS_VERBOSITY=info` for more details.\n"
          ]
        }
      ],
      "source": [
        "allresponses = []\n",
        "start = time.time()\n",
        "with torch.no_grad():\n",
        "  for inputs in dataloader:\n",
        "    outputs = llm_model.generate(**inputs, max_new_tokens=50, do_sample=False) # do_sample False -> deterministic results\n",
        "    new_tokens = outputs[:, inputs[\"input_ids\"].shape[-1]:-1]\n",
        "    responses = tokenizer.batch_decode(new_tokens, skip_special_tokens=True)\n",
        "    allresponses = allresponses + responses\n",
        "end = time.time()\n",
        "\n",
        "llm_predict_time = (end - start) * 1000 # in ms"
      ]
    },
    {
      "cell_type": "code",
      "execution_count": 12,
      "metadata": {
        "colab": {
          "base_uri": "https://localhost:8080/"
        },
        "id": "unNTIUmDV7HJ",
        "outputId": "992f1862-a829-4264-9148-a44b5e4894df"
      },
      "outputs": [
        {
          "name": "stdout",
          "output_type": "stream",
          "text": [
            "LLM Inference Time for 93 Samples in 6 batchs: 61925 ms\n"
          ]
        }
      ],
      "source": [
        "print(f\"LLM Inference Time for 93 Samples in 6 batchs: {llm_predict_time:.0f} ms\")"
      ]
    },
    {
      "cell_type": "code",
      "execution_count": 13,
      "metadata": {
        "id": "TtC1-0HEVfDz"
      },
      "outputs": [],
      "source": [
        "llm_predicts = []\n",
        "for resp in allresponses:\n",
        "  try:\n",
        "    llm_predicts.append(int(json.loads(resp)['id']))\n",
        "  except:\n",
        "    llm_predicts.append(0)\n",
        "llm_predicts = torch.tensor(llm_predicts)\n",
        "llm_acc = ((llm_predicts == labels).sum() / len(labels)).item()"
      ]
    },
    {
      "cell_type": "code",
      "execution_count": 14,
      "metadata": {
        "colab": {
          "base_uri": "https://localhost:8080/"
        },
        "id": "e3zof7whWb6_",
        "outputId": "adc1846a-f3bf-4447-a525-063ab80a6165"
      },
      "outputs": [
        {
          "name": "stdout",
          "output_type": "stream",
          "text": [
            "LLM Accuracy: 0.828\n"
          ]
        }
      ],
      "source": [
        "print(f\"LLM Accuracy: {llm_acc:0.3f}\")"
      ]
    },
    {
      "cell_type": "markdown",
      "metadata": {
        "id": "pEvOnEwmT0M8"
      },
      "source": [
        "## sentence encoder"
      ]
    },
    {
      "cell_type": "code",
      "execution_count": 23,
      "metadata": {
        "id": "j9Vk3EUIShNl"
      },
      "outputs": [],
      "source": [
        "start = time.time()\n",
        "faqs_emb = encoder_model.encode(faqs)\n",
        "samples_emb = encoder_model.encode(samples)\n",
        "similarities = encoder_model.similarity(faqs_emb, samples_emb)\n",
        "\n",
        "predict_indices = torch.max(similarities, axis=0)[1]\n",
        "encoder_predicts = predict_indices + 1\n",
        "end = time.time()\n",
        "\n",
        "encoder_predict_time = (end - start) * 1000 # in ms"
      ]
    },
    {
      "cell_type": "code",
      "execution_count": 16,
      "metadata": {
        "colab": {
          "base_uri": "https://localhost:8080/"
        },
        "id": "kMqurIR3XIbx",
        "outputId": "718827ee-c20a-4d4f-9293-70ba636fe805"
      },
      "outputs": [
        {
          "name": "stdout",
          "output_type": "stream",
          "text": [
            "Sentence Encoder Inference Time for 93 Samples in one batch: 1007 ms\n"
          ]
        }
      ],
      "source": [
        "print(f\"Sentence Encoder Inference Time for 93 Samples in one batch: {encoder_predict_time:.0f} ms\")"
      ]
    },
    {
      "cell_type": "code",
      "execution_count": 24,
      "metadata": {
        "id": "adZVidhQXOuv"
      },
      "outputs": [],
      "source": [
        "encoder_acc = ((encoder_predicts == labels).sum() / len(labels)).item()"
      ]
    },
    {
      "cell_type": "code",
      "execution_count": 25,
      "metadata": {
        "colab": {
          "base_uri": "https://localhost:8080/"
        },
        "id": "0eITdTa4XjVr",
        "outputId": "750c46e1-79a2-4b3a-fe2c-9057f65161a8"
      },
      "outputs": [
        {
          "name": "stdout",
          "output_type": "stream",
          "text": [
            "Sentence Encoder Accuracy: 0.817\n"
          ]
        }
      ],
      "source": [
        "print(f\"Sentence Encoder Accuracy: {encoder_acc:0.3f}\")"
      ]
    },
    {
      "cell_type": "markdown",
      "metadata": {
        "id": "Jl3vEZLzXvQr"
      },
      "source": [
        "# Analysis"
      ]
    },
    {
      "cell_type": "markdown",
      "metadata": {
        "id": "_lHi-lJIwQ1p"
      },
      "source": [
        "## inference time"
      ]
    },
    {
      "cell_type": "code",
      "execution_count": 183,
      "metadata": {
        "id": "M-14ZVBoXmSY"
      },
      "outputs": [],
      "source": [
        "batch_sizes = [1, 2, 4, 8, 16, 32]\n",
        "llm_predict_times = []\n",
        "for size in batch_sizes:\n",
        "  dl = DataLoader(userqs_ds, shuffle=False, batch_size=size, collate_fn=collate_fn)\n",
        "  batch = next(iter(dl))\n",
        "  torch.cuda.empty_cache()\n",
        "\n",
        "  start = time.time()\n",
        "  with torch.no_grad():\n",
        "    outputs = llm_model.generate(**batch, max_new_tokens=50, do_sample=False) # do_sample False -> deterministic results\n",
        "    new_tokens = outputs[:, inputs[\"input_ids\"].shape[-1]:-1]\n",
        "    responses = tokenizer.batch_decode(new_tokens, skip_special_tokens=True)\n",
        "  end = time.time()\n",
        "  del outputs, new_tokens, responses\n",
        "  torch.cuda.empty_cache()\n",
        "\n",
        "\n",
        "  llm_predict_times.append((end - start) * 1000) # in ms\n"
      ]
    },
    {
      "cell_type": "code",
      "execution_count": 187,
      "metadata": {
        "id": "a-lWy0tFry-k"
      },
      "outputs": [],
      "source": [
        "batch_sizes = [1, 2, 4, 8, 16, 32]\n",
        "encoder_predict_times = []\n",
        "for size in batch_sizes:\n",
        "  batch = samples[:size]\n",
        "  faqs_emb = encoder_model.encode(faqs)\n",
        "\n",
        "  start = time.time()\n",
        "  samples_emb = encoder_model.encode(batch)\n",
        "  similarities = encoder_model.similarity(faqs_emb, samples_emb)\n",
        "\n",
        "  predict_indices = torch.max(similarities, axis=0)[1]\n",
        "  predicts = predict_indices + 1\n",
        "  end = time.time()\n",
        "\n",
        "  encoder_predict_times.append((end - start) * 1000) # in ms\n",
        "\n"
      ]
    },
    {
      "cell_type": "code",
      "execution_count": 202,
      "metadata": {
        "colab": {
          "base_uri": "https://localhost:8080/"
        },
        "id": "N78Xud-3uM3O",
        "outputId": "0dfdc45b-449a-4cce-8ede-2a19c3d78ab8"
      },
      "outputs": [
        {
          "name": "stdout",
          "output_type": "stream",
          "text": [
            "#################### REPORT ########################\n",
            "\n",
            "LLM Inference Time for different batch sizes:\n",
            "batch size: 1 - time: 1455 ms\n",
            "batch size: 2 - time: 1848 ms\n",
            "batch size: 4 - time: 3048 ms\n",
            "batch size: 8 - time: 5113 ms\n",
            "batch size: 16 - time: 10049 ms\n",
            "batch size: 32 - time: 21567 ms\n",
            "-----------------------\n",
            "Sentence Encoder Inference Time for different batch sizes:\n",
            "batch size: 1 - time: 33 ms\n",
            "batch size: 2 - time: 33 ms\n",
            "batch size: 4 - time: 55 ms\n",
            "batch size: 8 - time: 97 ms\n",
            "batch size: 16 - time: 189 ms\n",
            "batch size: 32 - time: 374 ms\n",
            "\n",
            "####################################################\n"
          ]
        }
      ],
      "source": [
        "print(\"#################### REPORT ########################\\n\")\n",
        "print(\"LLM Inference Time for different batch sizes:\")\n",
        "print('\\n'.join([f\"batch size: {size} - time: {dur:.0f} ms\" for size, dur in zip(batch_sizes, llm_predict_times)]))\n",
        "print('-----------------------')\n",
        "print(\"Sentence Encoder Inference Time for different batch sizes:\")\n",
        "print('\\n'.join([f\"batch size: {size} - time: {dur:.0f} ms\" for (size, dur) in zip(batch_sizes, encoder_predict_times)]))\n",
        "print('\\n####################################################')"
      ]
    },
    {
      "cell_type": "markdown",
      "metadata": {
        "id": "8w3RJipSxb0r"
      },
      "source": [
        "## GPU needed"
      ]
    },
    {
      "cell_type": "code",
      "execution_count": 192,
      "metadata": {
        "id": "l5O1POSbxi94"
      },
      "outputs": [],
      "source": [
        "def get_model_size_gb(model: torch.nn.Module):\n",
        "    \"\"\"Rough GPU memory usage of a model’s parameters + buffers in MB.\"\"\"\n",
        "    param_size = sum(p.nelement() * p.element_size() for p in model.parameters())\n",
        "    buffer_size = sum(b.nelement() * b.element_size() for b in model.buffers())\n",
        "    total_size = (param_size + buffer_size) / (1024 ** 3)\n",
        "    return total_size"
      ]
    },
    {
      "cell_type": "code",
      "execution_count": 193,
      "metadata": {
        "id": "tUYlkUtKyHW6"
      },
      "outputs": [],
      "source": [
        "llm_model_size = get_model_size_gb(llm_model)\n",
        "encoder_model_size = get_model_size_gb(encoder_model)"
      ]
    },
    {
      "cell_type": "code",
      "execution_count": 198,
      "metadata": {
        "colab": {
          "base_uri": "https://localhost:8080/"
        },
        "id": "9Oos8CRxzIjy",
        "outputId": "58e6f0bc-5e6b-4494-c799-222307495f8b"
      },
      "outputs": [
        {
          "name": "stdout",
          "output_type": "stream",
          "text": [
            "#################### REPORT ########################\n",
            "\n",
            "Load LLM Model GPU Needed: 2.42 GB\n",
            "Load Sentence Encoder Model GPU Needed: 1.32 GB\n",
            "\n",
            "####################################################\n"
          ]
        }
      ],
      "source": [
        "print(\"#################### REPORT ########################\\n\")\n",
        "print(f\"Load LLM Model GPU Needed: {llm_model_size:0.2f} GB\")\n",
        "print(f\"Load Sentence Encoder Model GPU Needed: {encoder_model_size:0.2f} GB\")\n",
        "print('\\n####################################################')"
      ]
    },
    {
      "cell_type": "code",
      "execution_count": 171,
      "metadata": {
        "id": "7GnLVs3uzmeH"
      },
      "outputs": [],
      "source": [
        "def measure_inference_memory_gb(model, sample_input, device=\"cuda\"):\n",
        "    torch.cuda.empty_cache()\n",
        "    torch.cuda.reset_peak_memory_stats(device)\n",
        "    before = torch.cuda.max_memory_reserved(device) / (1024 ** 3)  # GB\n",
        "\n",
        "    model = model.to(device)\n",
        "    model.eval()\n",
        "    with torch.no_grad():\n",
        "        if type(model) == type(llm_model):\n",
        "            _ = model.generate(**sample_input, do_sample=False, max_new_tokens=50)\n",
        "        elif type(model) == type(encoder_model):\n",
        "            _ = model.encode(sample_input)\n",
        "    after = torch.cuda.max_memory_reserved(device) / (1024 ** 3)  # GB\n",
        "    return after - before"
      ]
    },
    {
      "cell_type": "code",
      "execution_count": 158,
      "metadata": {
        "id": "7WNXfisP0Ksy"
      },
      "outputs": [],
      "source": [
        "batch_sizes = [1, 2, 4, 8, 16, 32]\n",
        "llm_inference_memories = []\n",
        "for size in batch_sizes:\n",
        "  dl = DataLoader(userqs_ds, shuffle=False, batch_size=size, collate_fn=collate_fn)\n",
        "  batch = next(iter(dl))\n",
        "  torch.cuda.empty_cache()\n",
        "  inference_memory = measure_inference_memory_gb(llm_model, batch)\n",
        "  llm_inference_memories.append(inference_memory)\n",
        "  torch.cuda.empty_cache()\n"
      ]
    },
    {
      "cell_type": "code",
      "execution_count": 174,
      "metadata": {
        "id": "_nMZN-UHKGaA"
      },
      "outputs": [],
      "source": [
        "batch_sizes = [1, 2, 4, 8, 16, 32]\n",
        "encoder_inference_memories = []\n",
        "for size in batch_sizes:\n",
        "  batch = samples[:size]\n",
        "  torch.cuda.empty_cache()\n",
        "  inference_memory = measure_inference_memory_gb(encoder_model, batch)\n",
        "  encoder_inference_memories.append(inference_memory)\n",
        "  torch.cuda.empty_cache()\n",
        "\n",
        "\n"
      ]
    },
    {
      "cell_type": "code",
      "execution_count": 199,
      "metadata": {
        "colab": {
          "base_uri": "https://localhost:8080/"
        },
        "id": "FnLV589PMhqZ",
        "outputId": "cc0f802e-834c-45e2-a174-bc9e31b789e3"
      },
      "outputs": [
        {
          "name": "stdout",
          "output_type": "stream",
          "text": [
            "#################### REPORT ########################\n",
            "\n",
            "LLM Model Inference Memory:\n",
            "batch size: 1 - memory: 514 MB\n",
            "batch size: 2 - memory: 541 MB\n",
            "batch size: 4 - memory: 1051 MB\n",
            "batch size: 8 - memory: 2221 MB\n",
            "batch size: 16 - memory: 4451 MB\n",
            "batch size: 32 - memory: 8859 MB\n",
            "--------------------------------------\n",
            "Sentence Encoder Model Inference Memory:\n",
            "batch size: 1 - memory: 2 MB\n",
            "batch size: 2 - memory: 2 MB\n",
            "batch size: 4 - memory: 6 MB\n",
            "batch size: 8 - memory: 20 MB\n",
            "batch size: 16 - memory: 51 MB\n",
            "batch size: 32 - memory: 135 MB\n",
            "\n",
            "####################################################\n"
          ]
        }
      ],
      "source": [
        "print(\"#################### REPORT ########################\\n\")\n",
        "print(\"LLM Model Inference Memory:\")\n",
        "print('\\n'.join([f\"batch size: {size} - memory: {memo*1000:.0f} MB\" for size, memo in zip(batch_sizes, llm_inference_memories)]))\n",
        "print('--------------------------------------')\n",
        "print(\"Sentence Encoder Model Inference Memory:\")\n",
        "print('\\n'.join([f\"batch size: {size} - memory: {memo*1000:.0f} MB\" for size, memo in zip(batch_sizes, encoder_inference_memories)]))\n",
        "print('\\n####################################################')"
      ]
    },
    {
      "cell_type": "markdown",
      "metadata": {
        "id": "Q3DZHw6K6oUE"
      },
      "source": [
        "## case study"
      ]
    },
    {
      "cell_type": "code",
      "execution_count": 26,
      "metadata": {
        "id": "ML5_eT286ryl"
      },
      "outputs": [],
      "source": [
        "def category_accuracy(predics):\n",
        "  true_categories = 0\n",
        "  for i in range(len(labels)):\n",
        "    if categories[labels[i] - 1] == categories[predicts[i] - 1]:\n",
        "      true_categories += 1\n",
        "  return true_categories / len(predicts)\n"
      ]
    },
    {
      "cell_type": "code",
      "execution_count": 36,
      "metadata": {
        "id": "XD07r9VE7Xxi"
      },
      "outputs": [],
      "source": [
        "llm_cat_acc = category_accuracy(llm_predicts)\n",
        "llm_error_parsing = len(llm_predicts) - llm_predicts.count_nonzero()\n",
        "encoder_cat_acc = category_accuracy(encoder_predicts)"
      ]
    },
    {
      "cell_type": "code",
      "execution_count": 200,
      "metadata": {
        "colab": {
          "base_uri": "https://localhost:8080/"
        },
        "id": "Wf2PqXSy9r-U",
        "outputId": "3b068a2d-761e-4afe-f877-34a1cd943814"
      },
      "outputs": [
        {
          "name": "stdout",
          "output_type": "stream",
          "text": [
            "#################### REPORT ########################\n",
            "\n",
            "LLM Accuracy: 0.828 - LLM Category Accuracy: 0.914 - LLM Error Parsing Json: 0\n",
            "Sentence Encoder Accuracy: 0.817 - Sentence Encoder Category Accuracy: 0.914\n",
            "\n",
            "####################################################\n"
          ]
        }
      ],
      "source": [
        "print(\"#################### REPORT ########################\\n\")\n",
        "print(f\"LLM Accuracy: {llm_acc:.3f} - LLM Category Accuracy: {llm_cat_acc:.3f} - LLM Error Parsing Json: {llm_error_parsing}\")\n",
        "print(f\"Sentence Encoder Accuracy: {encoder_acc:.3f} - Sentence Encoder Category Accuracy: {encoder_cat_acc:.3f}\")\n",
        "print('\\n####################################################')"
      ]
    },
    {
      "cell_type": "code",
      "execution_count": 46,
      "metadata": {
        "id": "dtSeZnPl9sgs"
      },
      "outputs": [],
      "source": [
        "llm_predicts_mask = llm_predicts == labels\n",
        "encoder_predicts_mask = encoder_predicts == labels\n",
        "both_true = llm_predicts_mask & encoder_predicts_mask\n",
        "both_wrong = ~(llm_predicts_mask | encoder_predicts_mask)\n",
        "only_llm_true = llm_predicts_mask & (~encoder_predicts_mask)\n",
        "only_encoder_true = encoder_predicts_mask & (~llm_predicts_mask)"
      ]
    },
    {
      "cell_type": "code",
      "execution_count": 201,
      "metadata": {
        "colab": {
          "base_uri": "https://localhost:8080/"
        },
        "id": "P--U63v0_rz-",
        "outputId": "308dbcd7-ef85-40b9-9299-ddf8b4f5029c"
      },
      "outputs": [
        {
          "name": "stdout",
          "output_type": "stream",
          "text": [
            "#################### REPORT ########################\n",
            "\n",
            "Num of Easy Samples: 67\n",
            "Num of Hard Samples: 7\n",
            "LLM Only: 10\n",
            "Sentence Encoder Only: 9\n",
            "\n",
            "####################################################\n"
          ]
        }
      ],
      "source": [
        "print(\"#################### REPORT ########################\\n\")\n",
        "print(f\"Num of Easy Samples: {both_true.sum()}\")\n",
        "print(f\"Num of Hard Samples: {both_wrong.sum()}\")\n",
        "\n",
        "print(f\"LLM Only: {only_llm_true.sum()}\")\n",
        "print(f\"Sentence Encoder Only: {only_encoder_true.sum()}\")\n",
        "print('\\n####################################################')"
      ]
    },
    {
      "cell_type": "code",
      "execution_count": 55,
      "metadata": {
        "colab": {
          "base_uri": "https://localhost:8080/",
          "height": 332
        },
        "id": "g7vWDR7tBxEB",
        "outputId": "c4215821-b7f6-4352-b3d1-b776bf25154f"
      },
      "outputs": [
        {
          "name": "stdout",
          "output_type": "stream",
          "text": [
            "Hard Samples\n"
          ]
        },
        {
          "data": {
            "application/vnd.google.colaboratory.intrinsic+json": {
              "summary": "{\n  \"name\": \"samples_df[both_wrong\",\n  \"rows\": 7,\n  \"fields\": [\n    {\n      \"column\": \"sample\",\n      \"properties\": {\n        \"dtype\": \"string\",\n        \"num_unique_values\": 7,\n        \"samples\": [\n          \"\\u062e\\u0628 \\u0646\\u0645\\u06cc\\u0634\\u0647 \\u06a9\\u0644\\u0627 \\u062f\\u0631\\u062e\\u0648\\u0627\\u0633\\u062a \\u0627\\u0641\\u062a\\u062a\\u0627\\u062d \\u062d\\u0633\\u0627\\u0628 \\u0631\\u0648 \\u0644\\u063a\\u0648 \\u06a9\\u0646\\u06cc\\u062f\\u061f\",\n          \"\\u0633\\u0644\\u0627\\u0645 \\u0648\\u0642\\u062a \\u0628\\u0647 \\u062e\\u06cc\\u0631 \\u0645\\u0646 \\u062f\\u0631\\u062e\\u0648\\u0627\\u0633\\u062a \\u0627\\u0641\\u062a\\u062a\\u0627\\u062d \\u062d\\u0633\\u0627\\u0628 \\u062b\\u0628\\u062a \\u06a9\\u0631\\u062f\\u0645 \\u0627\\u0645\\u0627 \\u0645\\u06cc\\u062e\\u0648\\u0627\\u0645 \\u0622\\u062f\\u0631\\u0633 \\u062f\\u0631\\u06cc\\u0627\\u0641\\u062a \\u06a9\\u0627\\u0631\\u062a \\u0631\\u0648 \\u062a\\u063a\\u06cc\\u06cc\\u0631 \\u0628\\u062f\\u0645 \\u0627\\u0645\\u06a9\\u0627\\u0646\\u0634 \\u0647\\u0633\\u062a \\u062f\\u0631\\u062e\\u0648\\u0627\\u0633\\u062a \\u0627\\u0641\\u062a\\u062a\\u0627\\u062d \\u062d\\u0633\\u0627\\u0628\\u0645 \\u0631\\u0648 \\u0644\\u063a\\u0648 \\u06a9\\u0646\\u06cc\\u062f \\u062a\\u0627 \\u0628\\u062a\\u0648\\u0646\\u0645 \\u062f\\u0631\\u062e\\u0648\\u0627\\u0633\\u062a \\u062c\\u062f\\u06cc\\u062f \\u062b\\u0628\\u062a \\u06a9\\u0646\\u0645\\u061f\\n\\u0645\\u0646 \\u0627\\u0646\\u062a\\u0638\\u0627\\u0631 \\u062f\\u0627\\u0634\\u062a\\u0645 \\u0622\\u062f\\u0631\\u0633 \\u062f\\u0631\\u06cc\\u0627\\u0641\\u062a \\u06a9\\u0627\\u0631\\u062a \\u0628\\u0627 \\u0622\\u062f\\u0631\\u0633 \\u0645\\u062d\\u0644 \\u0633\\u06a9\\u0648\\u0646\\u062a \\u0645\\u062a\\u0641\\u0627\\u0648\\u062a \\u0628\\u0627\\u0634\\u0647 \\u0627\\u0645\\u0627 \\u0627\\u06cc\\u0646\\u0637\\u0648\\u0631 \\u0646\\u0628\\u0648\\u062f\",\n          \"\\u0633\\u0644\\u0627\\u0645 \\u0648\\u0642\\u062a \\u0628\\u062e\\u06cc\\u0631 \\n\\u0628\\u0631\\u0627\\u06cc \\u062d\\u0633\\u0627\\u0628 \\u062c\\u0627\\u0631\\u06cc \\u0647\\u0645 \\u0627\\u0645\\u062a\\u06cc\\u0627\\u0632 \\u0645\\u06cc\\u062f\\u06cc\\u0646 \\u06cc\\u0627 \\u0641\\u0642\\u0637 \\u0642\\u0631\\u0636 \\u0627\\u0644\\u062d\\u0633\\u0646\\u0647 \\u061f \\n\\u0648 \\u0634\\u0631\\u0627\\u06cc\\u0637 \\u062c\\u0645\\u0639 \\u0622\\u0648\\u0631\\u06cc \\u0627\\u0645\\u062a\\u06cc\\u0627\\u0632 \\u0648 \\u062f\\u0631\\u06cc\\u0627\\u0641\\u062a \\u062a\\u0633\\u0647\\u06cc\\u0644\\u0627\\u062a \\u0631\\u0627 \\u0644\\u0637\\u0641\\u0627 \\u062a\\u0648\\u0636\\u06cc\\u062d \\u0628\\u062f\\u06cc\\u0646 \\u061f \\n\\u0648 \\u0627\\u06cc\\u0646\\u06a9\\u0647 \\u06a9\\u0627\\u0631\\u062a \\u0647\\u0627\\u06cc \\u0628\\u0627\\u0646\\u06a9 \\u0642\\u0627\\u0628\\u0644\\u06cc\\u062a \\u0628\\u0631\\u062f\\u0627\\u0634\\u062a \\u0646\\u0642\\u062f\\u06cc \\u0627\\u0632 \\u062e\\u0648\\u062f\\u067e\\u0631\\u062f\\u0627\\u0632 \\u0631\\u0627 \\u0646\\u062f\\u0627\\u0631\\u0647\\u061f\"\n        ],\n        \"semantic_type\": \"\",\n        \"description\": \"\"\n      }\n    },\n    {\n      \"column\": \"gt_idx\",\n      \"properties\": {\n        \"dtype\": \"number\",\n        \"std\": 5,\n        \"min\": 3,\n        \"max\": 17,\n        \"num_unique_values\": 5,\n        \"samples\": [\n          7,\n          17,\n          10\n        ],\n        \"semantic_type\": \"\",\n        \"description\": \"\"\n      }\n    }\n  ]\n}",
              "type": "dataframe"
            },
            "text/html": [
              "\n",
              "  <div id=\"df-2162896b-2dd4-4e9c-ac13-5fa862479a4c\" class=\"colab-df-container\">\n",
              "    <div>\n",
              "<style scoped>\n",
              "    .dataframe tbody tr th:only-of-type {\n",
              "        vertical-align: middle;\n",
              "    }\n",
              "\n",
              "    .dataframe tbody tr th {\n",
              "        vertical-align: top;\n",
              "    }\n",
              "\n",
              "    .dataframe thead th {\n",
              "        text-align: right;\n",
              "    }\n",
              "</style>\n",
              "<table border=\"1\" class=\"dataframe\">\n",
              "  <thead>\n",
              "    <tr style=\"text-align: right;\">\n",
              "      <th></th>\n",
              "      <th>sample</th>\n",
              "      <th>gt_idx</th>\n",
              "    </tr>\n",
              "  </thead>\n",
              "  <tbody>\n",
              "    <tr>\n",
              "      <th>10</th>\n",
              "      <td>خب نمیشه کلا درخواست افتتاح حساب رو لغو کنید؟</td>\n",
              "      <td>3</td>\n",
              "    </tr>\n",
              "    <tr>\n",
              "      <th>12</th>\n",
              "      <td>سلام وقت به خیر من درخواست افتتاح حساب ثبت کرد...</td>\n",
              "      <td>3</td>\n",
              "    </tr>\n",
              "    <tr>\n",
              "      <th>13</th>\n",
              "      <td>سلام درخواست افتتاح حساب جدید دادم ولی منصرف ش...</td>\n",
              "      <td>3</td>\n",
              "    </tr>\n",
              "    <tr>\n",
              "      <th>34</th>\n",
              "      <td>سلام وقت بخیر\\nکارت من به خاطر رمز اشتباه مسدو...</td>\n",
              "      <td>7</td>\n",
              "    </tr>\n",
              "    <tr>\n",
              "      <th>54</th>\n",
              "      <td>سلام صبحتون بخیر . چرا من با امتیاز ۹۰۰ هزار ت...</td>\n",
              "      <td>10</td>\n",
              "    </tr>\n",
              "    <tr>\n",
              "      <th>59</th>\n",
              "      <td>سلام وقت بخیر \\nبرای حساب جاری هم امتیاز میدین...</td>\n",
              "      <td>12</td>\n",
              "    </tr>\n",
              "    <tr>\n",
              "      <th>71</th>\n",
              "      <td>سلام وقتتون بخیر چطوری میتونم واریزای ب کارتخو...</td>\n",
              "      <td>17</td>\n",
              "    </tr>\n",
              "  </tbody>\n",
              "</table>\n",
              "</div>\n",
              "    <div class=\"colab-df-buttons\">\n",
              "\n",
              "  <div class=\"colab-df-container\">\n",
              "    <button class=\"colab-df-convert\" onclick=\"convertToInteractive('df-2162896b-2dd4-4e9c-ac13-5fa862479a4c')\"\n",
              "            title=\"Convert this dataframe to an interactive table.\"\n",
              "            style=\"display:none;\">\n",
              "\n",
              "  <svg xmlns=\"http://www.w3.org/2000/svg\" height=\"24px\" viewBox=\"0 -960 960 960\">\n",
              "    <path d=\"M120-120v-720h720v720H120Zm60-500h600v-160H180v160Zm220 220h160v-160H400v160Zm0 220h160v-160H400v160ZM180-400h160v-160H180v160Zm440 0h160v-160H620v160ZM180-180h160v-160H180v160Zm440 0h160v-160H620v160Z\"/>\n",
              "  </svg>\n",
              "    </button>\n",
              "\n",
              "  <style>\n",
              "    .colab-df-container {\n",
              "      display:flex;\n",
              "      gap: 12px;\n",
              "    }\n",
              "\n",
              "    .colab-df-convert {\n",
              "      background-color: #E8F0FE;\n",
              "      border: none;\n",
              "      border-radius: 50%;\n",
              "      cursor: pointer;\n",
              "      display: none;\n",
              "      fill: #1967D2;\n",
              "      height: 32px;\n",
              "      padding: 0 0 0 0;\n",
              "      width: 32px;\n",
              "    }\n",
              "\n",
              "    .colab-df-convert:hover {\n",
              "      background-color: #E2EBFA;\n",
              "      box-shadow: 0px 1px 2px rgba(60, 64, 67, 0.3), 0px 1px 3px 1px rgba(60, 64, 67, 0.15);\n",
              "      fill: #174EA6;\n",
              "    }\n",
              "\n",
              "    .colab-df-buttons div {\n",
              "      margin-bottom: 4px;\n",
              "    }\n",
              "\n",
              "    [theme=dark] .colab-df-convert {\n",
              "      background-color: #3B4455;\n",
              "      fill: #D2E3FC;\n",
              "    }\n",
              "\n",
              "    [theme=dark] .colab-df-convert:hover {\n",
              "      background-color: #434B5C;\n",
              "      box-shadow: 0px 1px 3px 1px rgba(0, 0, 0, 0.15);\n",
              "      filter: drop-shadow(0px 1px 2px rgba(0, 0, 0, 0.3));\n",
              "      fill: #FFFFFF;\n",
              "    }\n",
              "  </style>\n",
              "\n",
              "    <script>\n",
              "      const buttonEl =\n",
              "        document.querySelector('#df-2162896b-2dd4-4e9c-ac13-5fa862479a4c button.colab-df-convert');\n",
              "      buttonEl.style.display =\n",
              "        google.colab.kernel.accessAllowed ? 'block' : 'none';\n",
              "\n",
              "      async function convertToInteractive(key) {\n",
              "        const element = document.querySelector('#df-2162896b-2dd4-4e9c-ac13-5fa862479a4c');\n",
              "        const dataTable =\n",
              "          await google.colab.kernel.invokeFunction('convertToInteractive',\n",
              "                                                    [key], {});\n",
              "        if (!dataTable) return;\n",
              "\n",
              "        const docLinkHtml = 'Like what you see? Visit the ' +\n",
              "          '<a target=\"_blank\" href=https://colab.research.google.com/notebooks/data_table.ipynb>data table notebook</a>'\n",
              "          + ' to learn more about interactive tables.';\n",
              "        element.innerHTML = '';\n",
              "        dataTable['output_type'] = 'display_data';\n",
              "        await google.colab.output.renderOutput(dataTable, element);\n",
              "        const docLink = document.createElement('div');\n",
              "        docLink.innerHTML = docLinkHtml;\n",
              "        element.appendChild(docLink);\n",
              "      }\n",
              "    </script>\n",
              "  </div>\n",
              "\n",
              "\n",
              "    <div id=\"df-be93c456-b27c-4895-b0a7-bfa624ebac41\">\n",
              "      <button class=\"colab-df-quickchart\" onclick=\"quickchart('df-be93c456-b27c-4895-b0a7-bfa624ebac41')\"\n",
              "                title=\"Suggest charts\"\n",
              "                style=\"display:none;\">\n",
              "\n",
              "<svg xmlns=\"http://www.w3.org/2000/svg\" height=\"24px\"viewBox=\"0 0 24 24\"\n",
              "     width=\"24px\">\n",
              "    <g>\n",
              "        <path d=\"M19 3H5c-1.1 0-2 .9-2 2v14c0 1.1.9 2 2 2h14c1.1 0 2-.9 2-2V5c0-1.1-.9-2-2-2zM9 17H7v-7h2v7zm4 0h-2V7h2v10zm4 0h-2v-4h2v4z\"/>\n",
              "    </g>\n",
              "</svg>\n",
              "      </button>\n",
              "\n",
              "<style>\n",
              "  .colab-df-quickchart {\n",
              "      --bg-color: #E8F0FE;\n",
              "      --fill-color: #1967D2;\n",
              "      --hover-bg-color: #E2EBFA;\n",
              "      --hover-fill-color: #174EA6;\n",
              "      --disabled-fill-color: #AAA;\n",
              "      --disabled-bg-color: #DDD;\n",
              "  }\n",
              "\n",
              "  [theme=dark] .colab-df-quickchart {\n",
              "      --bg-color: #3B4455;\n",
              "      --fill-color: #D2E3FC;\n",
              "      --hover-bg-color: #434B5C;\n",
              "      --hover-fill-color: #FFFFFF;\n",
              "      --disabled-bg-color: #3B4455;\n",
              "      --disabled-fill-color: #666;\n",
              "  }\n",
              "\n",
              "  .colab-df-quickchart {\n",
              "    background-color: var(--bg-color);\n",
              "    border: none;\n",
              "    border-radius: 50%;\n",
              "    cursor: pointer;\n",
              "    display: none;\n",
              "    fill: var(--fill-color);\n",
              "    height: 32px;\n",
              "    padding: 0;\n",
              "    width: 32px;\n",
              "  }\n",
              "\n",
              "  .colab-df-quickchart:hover {\n",
              "    background-color: var(--hover-bg-color);\n",
              "    box-shadow: 0 1px 2px rgba(60, 64, 67, 0.3), 0 1px 3px 1px rgba(60, 64, 67, 0.15);\n",
              "    fill: var(--button-hover-fill-color);\n",
              "  }\n",
              "\n",
              "  .colab-df-quickchart-complete:disabled,\n",
              "  .colab-df-quickchart-complete:disabled:hover {\n",
              "    background-color: var(--disabled-bg-color);\n",
              "    fill: var(--disabled-fill-color);\n",
              "    box-shadow: none;\n",
              "  }\n",
              "\n",
              "  .colab-df-spinner {\n",
              "    border: 2px solid var(--fill-color);\n",
              "    border-color: transparent;\n",
              "    border-bottom-color: var(--fill-color);\n",
              "    animation:\n",
              "      spin 1s steps(1) infinite;\n",
              "  }\n",
              "\n",
              "  @keyframes spin {\n",
              "    0% {\n",
              "      border-color: transparent;\n",
              "      border-bottom-color: var(--fill-color);\n",
              "      border-left-color: var(--fill-color);\n",
              "    }\n",
              "    20% {\n",
              "      border-color: transparent;\n",
              "      border-left-color: var(--fill-color);\n",
              "      border-top-color: var(--fill-color);\n",
              "    }\n",
              "    30% {\n",
              "      border-color: transparent;\n",
              "      border-left-color: var(--fill-color);\n",
              "      border-top-color: var(--fill-color);\n",
              "      border-right-color: var(--fill-color);\n",
              "    }\n",
              "    40% {\n",
              "      border-color: transparent;\n",
              "      border-right-color: var(--fill-color);\n",
              "      border-top-color: var(--fill-color);\n",
              "    }\n",
              "    60% {\n",
              "      border-color: transparent;\n",
              "      border-right-color: var(--fill-color);\n",
              "    }\n",
              "    80% {\n",
              "      border-color: transparent;\n",
              "      border-right-color: var(--fill-color);\n",
              "      border-bottom-color: var(--fill-color);\n",
              "    }\n",
              "    90% {\n",
              "      border-color: transparent;\n",
              "      border-bottom-color: var(--fill-color);\n",
              "    }\n",
              "  }\n",
              "</style>\n",
              "\n",
              "      <script>\n",
              "        async function quickchart(key) {\n",
              "          const quickchartButtonEl =\n",
              "            document.querySelector('#' + key + ' button');\n",
              "          quickchartButtonEl.disabled = true;  // To prevent multiple clicks.\n",
              "          quickchartButtonEl.classList.add('colab-df-spinner');\n",
              "          try {\n",
              "            const charts = await google.colab.kernel.invokeFunction(\n",
              "                'suggestCharts', [key], {});\n",
              "          } catch (error) {\n",
              "            console.error('Error during call to suggestCharts:', error);\n",
              "          }\n",
              "          quickchartButtonEl.classList.remove('colab-df-spinner');\n",
              "          quickchartButtonEl.classList.add('colab-df-quickchart-complete');\n",
              "        }\n",
              "        (() => {\n",
              "          let quickchartButtonEl =\n",
              "            document.querySelector('#df-be93c456-b27c-4895-b0a7-bfa624ebac41 button');\n",
              "          quickchartButtonEl.style.display =\n",
              "            google.colab.kernel.accessAllowed ? 'block' : 'none';\n",
              "        })();\n",
              "      </script>\n",
              "    </div>\n",
              "\n",
              "    </div>\n",
              "  </div>\n"
            ],
            "text/plain": [
              "                                               sample  gt_idx\n",
              "10      خب نمیشه کلا درخواست افتتاح حساب رو لغو کنید؟       3\n",
              "12  سلام وقت به خیر من درخواست افتتاح حساب ثبت کرد...       3\n",
              "13  سلام درخواست افتتاح حساب جدید دادم ولی منصرف ش...       3\n",
              "34  سلام وقت بخیر\\nکارت من به خاطر رمز اشتباه مسدو...       7\n",
              "54  سلام صبحتون بخیر . چرا من با امتیاز ۹۰۰ هزار ت...      10\n",
              "59  سلام وقت بخیر \\nبرای حساب جاری هم امتیاز میدین...      12\n",
              "71  سلام وقتتون بخیر چطوری میتونم واریزای ب کارتخو...      17"
            ]
          },
          "execution_count": 55,
          "metadata": {},
          "output_type": "execute_result"
        }
      ],
      "source": [
        "print(\"Hard Samples\")\n",
        "samples_df[both_wrong.tolist()]"
      ]
    },
    {
      "cell_type": "code",
      "execution_count": 58,
      "metadata": {
        "colab": {
          "base_uri": "https://localhost:8080/",
          "height": 441
        },
        "id": "W0S19eUdCfVb",
        "outputId": "a581b904-7b8b-4cdd-f25c-5ea7ff45e623"
      },
      "outputs": [
        {
          "name": "stdout",
          "output_type": "stream",
          "text": [
            "LLM Only\n"
          ]
        },
        {
          "data": {
            "application/vnd.google.colaboratory.intrinsic+json": {
              "summary": "{\n  \"name\": \"samples_df[only_llm_true\",\n  \"rows\": 10,\n  \"fields\": [\n    {\n      \"column\": \"sample\",\n      \"properties\": {\n        \"dtype\": \"string\",\n        \"num_unique_values\": 10,\n        \"samples\": [\n          \"\\u0633\\u0644\\u0627\\u0645 \\u0631\\u0648\\u0632\\u0628\\u062e\\u06cc\\u0631\\n\\u0686\\u0631\\u0627 \\u062f\\u0633\\u062a\\u0631\\u0633\\u06cc \\u0628\\u0647 \\u0641\\u0627\\u06cc\\u0644 \\u062d\\u0633\\u0627\\u0628\\u0647\\u0627\\u06cc \\u0633\\u0627\\u0644\\u0647\\u0627\\u06cc \\u0642\\u0628\\u0644 \\u0645\\u0642\\u062f\\u0648\\u0631 \\u0646\\u06cc\\u0633\\u062a\\u061f  \\u0636\\u0639\\u0641 \\u0628\\u0632\\u0631\\u06af\\u06cc \\u0647\\u0633\\u062a \\u0628\\u0631\\u0627\\u06cc \\u0628\\u0627\\u0646\\u06a9 \\u0622\\u0631\\u0645\\u0627\\u0646.\",\n          \"\\u0633\\u0644\\u0627\\u0645 \\u0686\\u0631\\u0627\\u0646\\u06cc\\u0645\\u062a\\u0648\\u0646\\u0645 \\u06a9\\u0627\\u0631\\u062a \\u0628\\u0647 \\u06a9\\u0627\\u0631\\u062a \\u06a9\\u0646\\u0645 \\u0631\\u0645\\u0632\\u067e\\u0648\\u06cc\\u0627\\u0628\\u0631\\u0627\\u0645 \\u0646\\u0645\\u06cc\\u0627\\u062f\\u0645\\u06cc\\u0632\\u0646\\u0647 \\u0634\\u0645\\u0627\\u0631\\u0647 \\u0645\\u0634\\u062a\\u0631\\u06cc \\u062a\\u0627\\u06cc\\u06cc\\u062f\\u0646\\u0634\\u062f\\u0647\",\n          \"\\u0633\\u0644\\u0627\\u0645 \\u062e\\u0633\\u062a\\u0647 \\u0646\\u0628\\u0627\\u0634\\u06cc\\u062f \\u0627\\u0645\\u062a\\u06cc\\u0627\\u0632 \\u062a\\u0633\\u0647\\u06cc\\u0644\\u0627\\u062a \\u0645\\u0646 \\u0686\\u0631\\u0627 \\u0632\\u06cc\\u0627\\u062f \\u0646\\u0645\\u06cc\\u0634\\u0647 \\u0628\\u0627 \\u0627\\u06cc\\u0646 \\u0647\\u0645\\u0647 \\u0633\\u067e\\u0631\\u062f\\u0647 \\u0628\\u0627\\u0644\\u0627\\u0645\"\n        ],\n        \"semantic_type\": \"\",\n        \"description\": \"\"\n      }\n    },\n    {\n      \"column\": \"gt_idx\",\n      \"properties\": {\n        \"dtype\": \"number\",\n        \"std\": 5,\n        \"min\": 3,\n        \"max\": 18,\n        \"num_unique_values\": 8,\n        \"samples\": [\n          5,\n          14,\n          3\n        ],\n        \"semantic_type\": \"\",\n        \"description\": \"\"\n      }\n    }\n  ]\n}",
              "type": "dataframe"
            },
            "text/html": [
              "\n",
              "  <div id=\"df-6100f573-22b0-4820-80e4-3a0428fe87a0\" class=\"colab-df-container\">\n",
              "    <div>\n",
              "<style scoped>\n",
              "    .dataframe tbody tr th:only-of-type {\n",
              "        vertical-align: middle;\n",
              "    }\n",
              "\n",
              "    .dataframe tbody tr th {\n",
              "        vertical-align: top;\n",
              "    }\n",
              "\n",
              "    .dataframe thead th {\n",
              "        text-align: right;\n",
              "    }\n",
              "</style>\n",
              "<table border=\"1\" class=\"dataframe\">\n",
              "  <thead>\n",
              "    <tr style=\"text-align: right;\">\n",
              "      <th></th>\n",
              "      <th>sample</th>\n",
              "      <th>gt_idx</th>\n",
              "    </tr>\n",
              "  </thead>\n",
              "  <tbody>\n",
              "    <tr>\n",
              "      <th>11</th>\n",
              "      <td>سلام وقت بخیر بنده قبلا ثبت نام کردم ولی الان ...</td>\n",
              "      <td>3</td>\n",
              "    </tr>\n",
              "    <tr>\n",
              "      <th>20</th>\n",
              "      <td>سلام چرانیمتونم کارت به کارت کنم رمزپویابرام ن...</td>\n",
              "      <td>5</td>\n",
              "    </tr>\n",
              "    <tr>\n",
              "      <th>32</th>\n",
              "      <td>سلام \\nرمز کارت را  از طریق تخصیص انتخاب کردم ...</td>\n",
              "      <td>6</td>\n",
              "    </tr>\n",
              "    <tr>\n",
              "      <th>38</th>\n",
              "      <td>درون برنامه هم پرداخت قسط رو میزنم ولی برداشت ...</td>\n",
              "      <td>8</td>\n",
              "    </tr>\n",
              "    <tr>\n",
              "      <th>56</th>\n",
              "      <td>سلام چرا از وقتی واریز به حساب داشتم، امتیاز م...</td>\n",
              "      <td>11</td>\n",
              "    </tr>\n",
              "    <tr>\n",
              "      <th>58</th>\n",
              "      <td>سلام خسته نباشید امتیاز تسهیلات من چرا زیاد نم...</td>\n",
              "      <td>11</td>\n",
              "    </tr>\n",
              "    <tr>\n",
              "      <th>65</th>\n",
              "      <td>سلام کارتمو گرفتم رمز ندارم چجوری رمزشو بگیرم</td>\n",
              "      <td>14</td>\n",
              "    </tr>\n",
              "    <tr>\n",
              "      <th>67</th>\n",
              "      <td>با سلام  برای تخصیص وتغییر رمز گزینه اش فعال ن...</td>\n",
              "      <td>15</td>\n",
              "    </tr>\n",
              "    <tr>\n",
              "      <th>73</th>\n",
              "      <td>سلام روزبخیر\\nچرا دسترسی به فایل حسابهای سالها...</td>\n",
              "      <td>18</td>\n",
              "    </tr>\n",
              "    <tr>\n",
              "      <th>74</th>\n",
              "      <td>سلام\\nمیخواستم تراکنش یک سال گذشته رو دریافت ک...</td>\n",
              "      <td>18</td>\n",
              "    </tr>\n",
              "  </tbody>\n",
              "</table>\n",
              "</div>\n",
              "    <div class=\"colab-df-buttons\">\n",
              "\n",
              "  <div class=\"colab-df-container\">\n",
              "    <button class=\"colab-df-convert\" onclick=\"convertToInteractive('df-6100f573-22b0-4820-80e4-3a0428fe87a0')\"\n",
              "            title=\"Convert this dataframe to an interactive table.\"\n",
              "            style=\"display:none;\">\n",
              "\n",
              "  <svg xmlns=\"http://www.w3.org/2000/svg\" height=\"24px\" viewBox=\"0 -960 960 960\">\n",
              "    <path d=\"M120-120v-720h720v720H120Zm60-500h600v-160H180v160Zm220 220h160v-160H400v160Zm0 220h160v-160H400v160ZM180-400h160v-160H180v160Zm440 0h160v-160H620v160ZM180-180h160v-160H180v160Zm440 0h160v-160H620v160Z\"/>\n",
              "  </svg>\n",
              "    </button>\n",
              "\n",
              "  <style>\n",
              "    .colab-df-container {\n",
              "      display:flex;\n",
              "      gap: 12px;\n",
              "    }\n",
              "\n",
              "    .colab-df-convert {\n",
              "      background-color: #E8F0FE;\n",
              "      border: none;\n",
              "      border-radius: 50%;\n",
              "      cursor: pointer;\n",
              "      display: none;\n",
              "      fill: #1967D2;\n",
              "      height: 32px;\n",
              "      padding: 0 0 0 0;\n",
              "      width: 32px;\n",
              "    }\n",
              "\n",
              "    .colab-df-convert:hover {\n",
              "      background-color: #E2EBFA;\n",
              "      box-shadow: 0px 1px 2px rgba(60, 64, 67, 0.3), 0px 1px 3px 1px rgba(60, 64, 67, 0.15);\n",
              "      fill: #174EA6;\n",
              "    }\n",
              "\n",
              "    .colab-df-buttons div {\n",
              "      margin-bottom: 4px;\n",
              "    }\n",
              "\n",
              "    [theme=dark] .colab-df-convert {\n",
              "      background-color: #3B4455;\n",
              "      fill: #D2E3FC;\n",
              "    }\n",
              "\n",
              "    [theme=dark] .colab-df-convert:hover {\n",
              "      background-color: #434B5C;\n",
              "      box-shadow: 0px 1px 3px 1px rgba(0, 0, 0, 0.15);\n",
              "      filter: drop-shadow(0px 1px 2px rgba(0, 0, 0, 0.3));\n",
              "      fill: #FFFFFF;\n",
              "    }\n",
              "  </style>\n",
              "\n",
              "    <script>\n",
              "      const buttonEl =\n",
              "        document.querySelector('#df-6100f573-22b0-4820-80e4-3a0428fe87a0 button.colab-df-convert');\n",
              "      buttonEl.style.display =\n",
              "        google.colab.kernel.accessAllowed ? 'block' : 'none';\n",
              "\n",
              "      async function convertToInteractive(key) {\n",
              "        const element = document.querySelector('#df-6100f573-22b0-4820-80e4-3a0428fe87a0');\n",
              "        const dataTable =\n",
              "          await google.colab.kernel.invokeFunction('convertToInteractive',\n",
              "                                                    [key], {});\n",
              "        if (!dataTable) return;\n",
              "\n",
              "        const docLinkHtml = 'Like what you see? Visit the ' +\n",
              "          '<a target=\"_blank\" href=https://colab.research.google.com/notebooks/data_table.ipynb>data table notebook</a>'\n",
              "          + ' to learn more about interactive tables.';\n",
              "        element.innerHTML = '';\n",
              "        dataTable['output_type'] = 'display_data';\n",
              "        await google.colab.output.renderOutput(dataTable, element);\n",
              "        const docLink = document.createElement('div');\n",
              "        docLink.innerHTML = docLinkHtml;\n",
              "        element.appendChild(docLink);\n",
              "      }\n",
              "    </script>\n",
              "  </div>\n",
              "\n",
              "\n",
              "    <div id=\"df-2d7a260e-c233-45cf-a8de-093ffb3ed1cc\">\n",
              "      <button class=\"colab-df-quickchart\" onclick=\"quickchart('df-2d7a260e-c233-45cf-a8de-093ffb3ed1cc')\"\n",
              "                title=\"Suggest charts\"\n",
              "                style=\"display:none;\">\n",
              "\n",
              "<svg xmlns=\"http://www.w3.org/2000/svg\" height=\"24px\"viewBox=\"0 0 24 24\"\n",
              "     width=\"24px\">\n",
              "    <g>\n",
              "        <path d=\"M19 3H5c-1.1 0-2 .9-2 2v14c0 1.1.9 2 2 2h14c1.1 0 2-.9 2-2V5c0-1.1-.9-2-2-2zM9 17H7v-7h2v7zm4 0h-2V7h2v10zm4 0h-2v-4h2v4z\"/>\n",
              "    </g>\n",
              "</svg>\n",
              "      </button>\n",
              "\n",
              "<style>\n",
              "  .colab-df-quickchart {\n",
              "      --bg-color: #E8F0FE;\n",
              "      --fill-color: #1967D2;\n",
              "      --hover-bg-color: #E2EBFA;\n",
              "      --hover-fill-color: #174EA6;\n",
              "      --disabled-fill-color: #AAA;\n",
              "      --disabled-bg-color: #DDD;\n",
              "  }\n",
              "\n",
              "  [theme=dark] .colab-df-quickchart {\n",
              "      --bg-color: #3B4455;\n",
              "      --fill-color: #D2E3FC;\n",
              "      --hover-bg-color: #434B5C;\n",
              "      --hover-fill-color: #FFFFFF;\n",
              "      --disabled-bg-color: #3B4455;\n",
              "      --disabled-fill-color: #666;\n",
              "  }\n",
              "\n",
              "  .colab-df-quickchart {\n",
              "    background-color: var(--bg-color);\n",
              "    border: none;\n",
              "    border-radius: 50%;\n",
              "    cursor: pointer;\n",
              "    display: none;\n",
              "    fill: var(--fill-color);\n",
              "    height: 32px;\n",
              "    padding: 0;\n",
              "    width: 32px;\n",
              "  }\n",
              "\n",
              "  .colab-df-quickchart:hover {\n",
              "    background-color: var(--hover-bg-color);\n",
              "    box-shadow: 0 1px 2px rgba(60, 64, 67, 0.3), 0 1px 3px 1px rgba(60, 64, 67, 0.15);\n",
              "    fill: var(--button-hover-fill-color);\n",
              "  }\n",
              "\n",
              "  .colab-df-quickchart-complete:disabled,\n",
              "  .colab-df-quickchart-complete:disabled:hover {\n",
              "    background-color: var(--disabled-bg-color);\n",
              "    fill: var(--disabled-fill-color);\n",
              "    box-shadow: none;\n",
              "  }\n",
              "\n",
              "  .colab-df-spinner {\n",
              "    border: 2px solid var(--fill-color);\n",
              "    border-color: transparent;\n",
              "    border-bottom-color: var(--fill-color);\n",
              "    animation:\n",
              "      spin 1s steps(1) infinite;\n",
              "  }\n",
              "\n",
              "  @keyframes spin {\n",
              "    0% {\n",
              "      border-color: transparent;\n",
              "      border-bottom-color: var(--fill-color);\n",
              "      border-left-color: var(--fill-color);\n",
              "    }\n",
              "    20% {\n",
              "      border-color: transparent;\n",
              "      border-left-color: var(--fill-color);\n",
              "      border-top-color: var(--fill-color);\n",
              "    }\n",
              "    30% {\n",
              "      border-color: transparent;\n",
              "      border-left-color: var(--fill-color);\n",
              "      border-top-color: var(--fill-color);\n",
              "      border-right-color: var(--fill-color);\n",
              "    }\n",
              "    40% {\n",
              "      border-color: transparent;\n",
              "      border-right-color: var(--fill-color);\n",
              "      border-top-color: var(--fill-color);\n",
              "    }\n",
              "    60% {\n",
              "      border-color: transparent;\n",
              "      border-right-color: var(--fill-color);\n",
              "    }\n",
              "    80% {\n",
              "      border-color: transparent;\n",
              "      border-right-color: var(--fill-color);\n",
              "      border-bottom-color: var(--fill-color);\n",
              "    }\n",
              "    90% {\n",
              "      border-color: transparent;\n",
              "      border-bottom-color: var(--fill-color);\n",
              "    }\n",
              "  }\n",
              "</style>\n",
              "\n",
              "      <script>\n",
              "        async function quickchart(key) {\n",
              "          const quickchartButtonEl =\n",
              "            document.querySelector('#' + key + ' button');\n",
              "          quickchartButtonEl.disabled = true;  // To prevent multiple clicks.\n",
              "          quickchartButtonEl.classList.add('colab-df-spinner');\n",
              "          try {\n",
              "            const charts = await google.colab.kernel.invokeFunction(\n",
              "                'suggestCharts', [key], {});\n",
              "          } catch (error) {\n",
              "            console.error('Error during call to suggestCharts:', error);\n",
              "          }\n",
              "          quickchartButtonEl.classList.remove('colab-df-spinner');\n",
              "          quickchartButtonEl.classList.add('colab-df-quickchart-complete');\n",
              "        }\n",
              "        (() => {\n",
              "          let quickchartButtonEl =\n",
              "            document.querySelector('#df-2d7a260e-c233-45cf-a8de-093ffb3ed1cc button');\n",
              "          quickchartButtonEl.style.display =\n",
              "            google.colab.kernel.accessAllowed ? 'block' : 'none';\n",
              "        })();\n",
              "      </script>\n",
              "    </div>\n",
              "\n",
              "    </div>\n",
              "  </div>\n"
            ],
            "text/plain": [
              "                                               sample  gt_idx\n",
              "11  سلام وقت بخیر بنده قبلا ثبت نام کردم ولی الان ...       3\n",
              "20  سلام چرانیمتونم کارت به کارت کنم رمزپویابرام ن...       5\n",
              "32  سلام \\nرمز کارت را  از طریق تخصیص انتخاب کردم ...       6\n",
              "38  درون برنامه هم پرداخت قسط رو میزنم ولی برداشت ...       8\n",
              "56  سلام چرا از وقتی واریز به حساب داشتم، امتیاز م...      11\n",
              "58  سلام خسته نباشید امتیاز تسهیلات من چرا زیاد نم...      11\n",
              "65      سلام کارتمو گرفتم رمز ندارم چجوری رمزشو بگیرم      14\n",
              "67  با سلام  برای تخصیص وتغییر رمز گزینه اش فعال ن...      15\n",
              "73  سلام روزبخیر\\nچرا دسترسی به فایل حسابهای سالها...      18\n",
              "74  سلام\\nمیخواستم تراکنش یک سال گذشته رو دریافت ک...      18"
            ]
          },
          "execution_count": 58,
          "metadata": {},
          "output_type": "execute_result"
        }
      ],
      "source": [
        "print(\"LLM Only\")\n",
        "samples_df[only_llm_true.tolist()]"
      ]
    },
    {
      "cell_type": "code",
      "execution_count": 59,
      "metadata": {
        "colab": {
          "base_uri": "https://localhost:8080/",
          "height": 404
        },
        "id": "5CcxFm6rCrtC",
        "outputId": "f50b67a9-498c-4f8a-eaa2-1ddd390bfc9d"
      },
      "outputs": [
        {
          "name": "stdout",
          "output_type": "stream",
          "text": [
            "Sentence Encoder Only\n"
          ]
        },
        {
          "data": {
            "application/vnd.google.colaboratory.intrinsic+json": {
              "summary": "{\n  \"name\": \"samples_df[only_encoder_true\",\n  \"rows\": 9,\n  \"fields\": [\n    {\n      \"column\": \"sample\",\n      \"properties\": {\n        \"dtype\": \"string\",\n        \"num_unique_values\": 9,\n        \"samples\": [\n          \"\\u0628\\u0627\\u0633\\u0644\\u0627\\u0645\\u060c \\u0645\\u0646 \\u062f\\u0631 \\u0628\\u0627\\u0634\\u06af\\u0627\\u0647 \\u0645\\u0634\\u062a\\u0631\\u06cc\\u0627\\u0646 \\u062f\\u0627\\u0631\\u0627\\u06cc \\u0627\\u0645\\u062a\\u06cc\\u0627\\u0632 \\u062f\\u0648\\u0645\\u06cc\\u0644\\u06cc\\u0648\\u0646 \\u0648\\u0686\\u0647\\u0627\\u0631\\u0635\\u062f \\u062d\\u062f\\u0648\\u062f\\u0627 \\u0647\\u0633\\u062a\\u0645 \\u0648 \\u0648\\u0642\\u062a\\u06cc \\u0628\\u0631\\u0627\\u06cc \\u062f\\u0631\\u06cc\\u0627\\u0641\\u062a \\u062a\\u0633\\u0647\\u06cc\\u0644\\u0627\\u062a \\u0627\\u0642\\u062f\\u0627\\u0645 \\u0645\\u06cc\\u06a9\\u0646\\u0645 \\u0641\\u0642\\u0637 \\u0648\\u0627\\u0645 \\u067e\\u0646\\u062c \\u0645\\u06cc\\u0644\\u06cc\\u0648\\u0646 \\u062a\\u0648\\u0645\\u0627\\u0646\\u06cc \\u0631\\u0627 \\u0645\\u06cc\\u062a\\u0648\\u0627\\u0646\\u0645 \\u0627\\u0646\\u062a\\u062e\\u0627\\u0628 \\u06a9\\u0646\\u0645 \\u062f\\u0631\\u062d\\u0627\\u0644\\u06cc \\u06a9\\u0647 \\u0637\\u0628\\u0642 \\u062c\\u062f\\u0648\\u0644 \\u062a\\u0628\\u062f\\u06cc\\u0644 \\u0627\\u0645\\u062a\\u06cc\\u0627\\u0632 \\u0645\\u0646 \\u0645\\u06cc\\u062a\\u0648\\u0627\\u0646\\u0645 \\u0648\\u0627\\u0645 \\u0631\\u0627 \\u0628\\u0627\\u062a\\u0628\\u062f\\u06cc\\u0644 \\u0627\\u0645\\u062a\\u06cc\\u0627\\u0632 \\u06cc\\u06a9\\u0645\\u06cc\\u0644\\u06cc\\u0648\\u0646 \\u0648\\u0647\\u0634\\u0635\\u062f \\u0628\\u0631\\u062f\\u0627\\u0631\\u0645 \\u0686\\u0631\\u0627\\u061f\",\n          \"\\u0633\\u0644\\u0627\\u0645 \\u0648\\u0642\\u062a \\u0628\\u062e\\u06cc\\u0631. \\u0645\\u06cc\\u062e\\u0627\\u0645 \\u067e\\u0648\\u0644 \\u06a9\\u0627\\u0631\\u062a \\u0628 \\u06a9\\u0627\\u0631\\u062a \\u06a9\\u0646\\u0645 \\u0645\\u06cc\\u0646\\u0648\\u06cc\\u0633\\u0647 \\u0634\\u0645\\u0627\\u0631\\u0647 \\u062a\\u0644\\u0641\\u0646 \\u0645\\u0634\\u062a\\u0631\\u06cc \\u0631\\u0627 \\u0648\\u0627\\u0631\\u062f \\u06a9\\u0646\\u06cc\\u062f \\u06cc\\u0646\\u06cc \\u0686\\u06cc\",\n          \"\\u0633\\u0644\\u0627\\u0645 \\u0648\\u0642\\u062a \\u0628\\u062e\\u06cc\\u0631 \\n\\u0628\\u0631\\u0627\\u06cc \\u0641\\u0639\\u0627\\u0644\\u0633\\u0627\\u0632\\u06cc \\u0631\\u0645\\u0632 \\u062f\\u0648\\u0645 \\u0631\\u0627\\u0647\\u0646\\u0645\\u0627\\u06cc\\u06cc \\u0645\\u06cc\\u0641\\u0631\\u0645\\u0627\\u0626\\u06cc\\u062f\"\n        ],\n        \"semantic_type\": \"\",\n        \"description\": \"\"\n      }\n    },\n    {\n      \"column\": \"gt_idx\",\n      \"properties\": {\n        \"dtype\": \"number\",\n        \"std\": 3,\n        \"min\": 5,\n        \"max\": 15,\n        \"num_unique_values\": 5,\n        \"samples\": [\n          7,\n          15,\n          9\n        ],\n        \"semantic_type\": \"\",\n        \"description\": \"\"\n      }\n    }\n  ]\n}",
              "type": "dataframe"
            },
            "text/html": [
              "\n",
              "  <div id=\"df-65ba13cb-6ec9-491e-b94b-6d90334c3fd1\" class=\"colab-df-container\">\n",
              "    <div>\n",
              "<style scoped>\n",
              "    .dataframe tbody tr th:only-of-type {\n",
              "        vertical-align: middle;\n",
              "    }\n",
              "\n",
              "    .dataframe tbody tr th {\n",
              "        vertical-align: top;\n",
              "    }\n",
              "\n",
              "    .dataframe thead th {\n",
              "        text-align: right;\n",
              "    }\n",
              "</style>\n",
              "<table border=\"1\" class=\"dataframe\">\n",
              "  <thead>\n",
              "    <tr style=\"text-align: right;\">\n",
              "      <th></th>\n",
              "      <th>sample</th>\n",
              "      <th>gt_idx</th>\n",
              "    </tr>\n",
              "  </thead>\n",
              "  <tbody>\n",
              "    <tr>\n",
              "      <th>19</th>\n",
              "      <td>سلام \\nشماره همراهی که به بانک معرفی کرده بودن...</td>\n",
              "      <td>5</td>\n",
              "    </tr>\n",
              "    <tr>\n",
              "      <th>22</th>\n",
              "      <td>سلام وقت بخیر. میخام پول کارت ب کارت کنم مینوی...</td>\n",
              "      <td>5</td>\n",
              "    </tr>\n",
              "    <tr>\n",
              "      <th>25</th>\n",
              "      <td>سلام لطفا ج بدید، چطوری میتونم بدون مراجعه ب ب...</td>\n",
              "      <td>5</td>\n",
              "    </tr>\n",
              "    <tr>\n",
              "      <th>26</th>\n",
              "      <td>چگونه شماره موبایل خود را تایید کنم</td>\n",
              "      <td>5</td>\n",
              "    </tr>\n",
              "    <tr>\n",
              "      <th>35</th>\n",
              "      <td>می خواهم کارتم را بسوزانم؟</td>\n",
              "      <td>7</td>\n",
              "    </tr>\n",
              "    <tr>\n",
              "      <th>45</th>\n",
              "      <td>سلام وقت بخیر \\nبرای فعالسازی رمز دوم راهنمایی...</td>\n",
              "      <td>9</td>\n",
              "    </tr>\n",
              "    <tr>\n",
              "      <th>50</th>\n",
              "      <td>چرا با اینکه امتیازم 2/800/000 بیشتر از پنج می...</td>\n",
              "      <td>10</td>\n",
              "    </tr>\n",
              "    <tr>\n",
              "      <th>51</th>\n",
              "      <td>باسلام، من در باشگاه مشتریان دارای امتیاز دومی...</td>\n",
              "      <td>10</td>\n",
              "    </tr>\n",
              "    <tr>\n",
              "      <th>68</th>\n",
              "      <td>سلام رمز اول خود را فراموش کردم چطور میشه باز ...</td>\n",
              "      <td>15</td>\n",
              "    </tr>\n",
              "  </tbody>\n",
              "</table>\n",
              "</div>\n",
              "    <div class=\"colab-df-buttons\">\n",
              "\n",
              "  <div class=\"colab-df-container\">\n",
              "    <button class=\"colab-df-convert\" onclick=\"convertToInteractive('df-65ba13cb-6ec9-491e-b94b-6d90334c3fd1')\"\n",
              "            title=\"Convert this dataframe to an interactive table.\"\n",
              "            style=\"display:none;\">\n",
              "\n",
              "  <svg xmlns=\"http://www.w3.org/2000/svg\" height=\"24px\" viewBox=\"0 -960 960 960\">\n",
              "    <path d=\"M120-120v-720h720v720H120Zm60-500h600v-160H180v160Zm220 220h160v-160H400v160Zm0 220h160v-160H400v160ZM180-400h160v-160H180v160Zm440 0h160v-160H620v160ZM180-180h160v-160H180v160Zm440 0h160v-160H620v160Z\"/>\n",
              "  </svg>\n",
              "    </button>\n",
              "\n",
              "  <style>\n",
              "    .colab-df-container {\n",
              "      display:flex;\n",
              "      gap: 12px;\n",
              "    }\n",
              "\n",
              "    .colab-df-convert {\n",
              "      background-color: #E8F0FE;\n",
              "      border: none;\n",
              "      border-radius: 50%;\n",
              "      cursor: pointer;\n",
              "      display: none;\n",
              "      fill: #1967D2;\n",
              "      height: 32px;\n",
              "      padding: 0 0 0 0;\n",
              "      width: 32px;\n",
              "    }\n",
              "\n",
              "    .colab-df-convert:hover {\n",
              "      background-color: #E2EBFA;\n",
              "      box-shadow: 0px 1px 2px rgba(60, 64, 67, 0.3), 0px 1px 3px 1px rgba(60, 64, 67, 0.15);\n",
              "      fill: #174EA6;\n",
              "    }\n",
              "\n",
              "    .colab-df-buttons div {\n",
              "      margin-bottom: 4px;\n",
              "    }\n",
              "\n",
              "    [theme=dark] .colab-df-convert {\n",
              "      background-color: #3B4455;\n",
              "      fill: #D2E3FC;\n",
              "    }\n",
              "\n",
              "    [theme=dark] .colab-df-convert:hover {\n",
              "      background-color: #434B5C;\n",
              "      box-shadow: 0px 1px 3px 1px rgba(0, 0, 0, 0.15);\n",
              "      filter: drop-shadow(0px 1px 2px rgba(0, 0, 0, 0.3));\n",
              "      fill: #FFFFFF;\n",
              "    }\n",
              "  </style>\n",
              "\n",
              "    <script>\n",
              "      const buttonEl =\n",
              "        document.querySelector('#df-65ba13cb-6ec9-491e-b94b-6d90334c3fd1 button.colab-df-convert');\n",
              "      buttonEl.style.display =\n",
              "        google.colab.kernel.accessAllowed ? 'block' : 'none';\n",
              "\n",
              "      async function convertToInteractive(key) {\n",
              "        const element = document.querySelector('#df-65ba13cb-6ec9-491e-b94b-6d90334c3fd1');\n",
              "        const dataTable =\n",
              "          await google.colab.kernel.invokeFunction('convertToInteractive',\n",
              "                                                    [key], {});\n",
              "        if (!dataTable) return;\n",
              "\n",
              "        const docLinkHtml = 'Like what you see? Visit the ' +\n",
              "          '<a target=\"_blank\" href=https://colab.research.google.com/notebooks/data_table.ipynb>data table notebook</a>'\n",
              "          + ' to learn more about interactive tables.';\n",
              "        element.innerHTML = '';\n",
              "        dataTable['output_type'] = 'display_data';\n",
              "        await google.colab.output.renderOutput(dataTable, element);\n",
              "        const docLink = document.createElement('div');\n",
              "        docLink.innerHTML = docLinkHtml;\n",
              "        element.appendChild(docLink);\n",
              "      }\n",
              "    </script>\n",
              "  </div>\n",
              "\n",
              "\n",
              "    <div id=\"df-38f28b4f-6527-44fc-9087-892d5b1cb776\">\n",
              "      <button class=\"colab-df-quickchart\" onclick=\"quickchart('df-38f28b4f-6527-44fc-9087-892d5b1cb776')\"\n",
              "                title=\"Suggest charts\"\n",
              "                style=\"display:none;\">\n",
              "\n",
              "<svg xmlns=\"http://www.w3.org/2000/svg\" height=\"24px\"viewBox=\"0 0 24 24\"\n",
              "     width=\"24px\">\n",
              "    <g>\n",
              "        <path d=\"M19 3H5c-1.1 0-2 .9-2 2v14c0 1.1.9 2 2 2h14c1.1 0 2-.9 2-2V5c0-1.1-.9-2-2-2zM9 17H7v-7h2v7zm4 0h-2V7h2v10zm4 0h-2v-4h2v4z\"/>\n",
              "    </g>\n",
              "</svg>\n",
              "      </button>\n",
              "\n",
              "<style>\n",
              "  .colab-df-quickchart {\n",
              "      --bg-color: #E8F0FE;\n",
              "      --fill-color: #1967D2;\n",
              "      --hover-bg-color: #E2EBFA;\n",
              "      --hover-fill-color: #174EA6;\n",
              "      --disabled-fill-color: #AAA;\n",
              "      --disabled-bg-color: #DDD;\n",
              "  }\n",
              "\n",
              "  [theme=dark] .colab-df-quickchart {\n",
              "      --bg-color: #3B4455;\n",
              "      --fill-color: #D2E3FC;\n",
              "      --hover-bg-color: #434B5C;\n",
              "      --hover-fill-color: #FFFFFF;\n",
              "      --disabled-bg-color: #3B4455;\n",
              "      --disabled-fill-color: #666;\n",
              "  }\n",
              "\n",
              "  .colab-df-quickchart {\n",
              "    background-color: var(--bg-color);\n",
              "    border: none;\n",
              "    border-radius: 50%;\n",
              "    cursor: pointer;\n",
              "    display: none;\n",
              "    fill: var(--fill-color);\n",
              "    height: 32px;\n",
              "    padding: 0;\n",
              "    width: 32px;\n",
              "  }\n",
              "\n",
              "  .colab-df-quickchart:hover {\n",
              "    background-color: var(--hover-bg-color);\n",
              "    box-shadow: 0 1px 2px rgba(60, 64, 67, 0.3), 0 1px 3px 1px rgba(60, 64, 67, 0.15);\n",
              "    fill: var(--button-hover-fill-color);\n",
              "  }\n",
              "\n",
              "  .colab-df-quickchart-complete:disabled,\n",
              "  .colab-df-quickchart-complete:disabled:hover {\n",
              "    background-color: var(--disabled-bg-color);\n",
              "    fill: var(--disabled-fill-color);\n",
              "    box-shadow: none;\n",
              "  }\n",
              "\n",
              "  .colab-df-spinner {\n",
              "    border: 2px solid var(--fill-color);\n",
              "    border-color: transparent;\n",
              "    border-bottom-color: var(--fill-color);\n",
              "    animation:\n",
              "      spin 1s steps(1) infinite;\n",
              "  }\n",
              "\n",
              "  @keyframes spin {\n",
              "    0% {\n",
              "      border-color: transparent;\n",
              "      border-bottom-color: var(--fill-color);\n",
              "      border-left-color: var(--fill-color);\n",
              "    }\n",
              "    20% {\n",
              "      border-color: transparent;\n",
              "      border-left-color: var(--fill-color);\n",
              "      border-top-color: var(--fill-color);\n",
              "    }\n",
              "    30% {\n",
              "      border-color: transparent;\n",
              "      border-left-color: var(--fill-color);\n",
              "      border-top-color: var(--fill-color);\n",
              "      border-right-color: var(--fill-color);\n",
              "    }\n",
              "    40% {\n",
              "      border-color: transparent;\n",
              "      border-right-color: var(--fill-color);\n",
              "      border-top-color: var(--fill-color);\n",
              "    }\n",
              "    60% {\n",
              "      border-color: transparent;\n",
              "      border-right-color: var(--fill-color);\n",
              "    }\n",
              "    80% {\n",
              "      border-color: transparent;\n",
              "      border-right-color: var(--fill-color);\n",
              "      border-bottom-color: var(--fill-color);\n",
              "    }\n",
              "    90% {\n",
              "      border-color: transparent;\n",
              "      border-bottom-color: var(--fill-color);\n",
              "    }\n",
              "  }\n",
              "</style>\n",
              "\n",
              "      <script>\n",
              "        async function quickchart(key) {\n",
              "          const quickchartButtonEl =\n",
              "            document.querySelector('#' + key + ' button');\n",
              "          quickchartButtonEl.disabled = true;  // To prevent multiple clicks.\n",
              "          quickchartButtonEl.classList.add('colab-df-spinner');\n",
              "          try {\n",
              "            const charts = await google.colab.kernel.invokeFunction(\n",
              "                'suggestCharts', [key], {});\n",
              "          } catch (error) {\n",
              "            console.error('Error during call to suggestCharts:', error);\n",
              "          }\n",
              "          quickchartButtonEl.classList.remove('colab-df-spinner');\n",
              "          quickchartButtonEl.classList.add('colab-df-quickchart-complete');\n",
              "        }\n",
              "        (() => {\n",
              "          let quickchartButtonEl =\n",
              "            document.querySelector('#df-38f28b4f-6527-44fc-9087-892d5b1cb776 button');\n",
              "          quickchartButtonEl.style.display =\n",
              "            google.colab.kernel.accessAllowed ? 'block' : 'none';\n",
              "        })();\n",
              "      </script>\n",
              "    </div>\n",
              "\n",
              "    </div>\n",
              "  </div>\n"
            ],
            "text/plain": [
              "                                               sample  gt_idx\n",
              "19  سلام \\nشماره همراهی که به بانک معرفی کرده بودن...       5\n",
              "22  سلام وقت بخیر. میخام پول کارت ب کارت کنم مینوی...       5\n",
              "25  سلام لطفا ج بدید، چطوری میتونم بدون مراجعه ب ب...       5\n",
              "26                چگونه شماره موبایل خود را تایید کنم       5\n",
              "35                         می خواهم کارتم را بسوزانم؟       7\n",
              "45  سلام وقت بخیر \\nبرای فعالسازی رمز دوم راهنمایی...       9\n",
              "50  چرا با اینکه امتیازم 2/800/000 بیشتر از پنج می...      10\n",
              "51  باسلام، من در باشگاه مشتریان دارای امتیاز دومی...      10\n",
              "68  سلام رمز اول خود را فراموش کردم چطور میشه باز ...      15"
            ]
          },
          "execution_count": 59,
          "metadata": {},
          "output_type": "execute_result"
        }
      ],
      "source": [
        "print(\"Sentence Encoder Only\")\n",
        "samples_df[only_encoder_true.tolist()]"
      ]
    }
  ],
  "metadata": {
    "accelerator": "GPU",
    "colab": {
      "collapsed_sections": [
        "QSHpVRIzNDCD",
        "KNsSyTRykogy",
        "T3Ttd2AqO7aB",
        "ci1qMfpgPbRh",
        "kYc0OEtfR3EK",
        "U3o0T1VlTqNF",
        "8w3RJipSxb0r",
        "Q3DZHw6K6oUE"
      ],
      "gpuType": "T4",
      "provenance": []
    },
    "kernelspec": {
      "display_name": "Python 3",
      "name": "python3"
    },
    "language_info": {
      "name": "python"
    },
    "widgets": {
      "application/vnd.jupyter.widget-state+json": {
        "2baed92fc4184cad86339ba2bbe450a8": {
          "model_module": "@jupyter-widgets/base",
          "model_module_version": "1.2.0",
          "model_name": "LayoutModel",
          "state": {
            "_model_module": "@jupyter-widgets/base",
            "_model_module_version": "1.2.0",
            "_model_name": "LayoutModel",
            "_view_count": null,
            "_view_module": "@jupyter-widgets/base",
            "_view_module_version": "1.2.0",
            "_view_name": "LayoutView",
            "align_content": null,
            "align_items": null,
            "align_self": null,
            "border": null,
            "bottom": null,
            "display": null,
            "flex": null,
            "flex_flow": null,
            "grid_area": null,
            "grid_auto_columns": null,
            "grid_auto_flow": null,
            "grid_auto_rows": null,
            "grid_column": null,
            "grid_gap": null,
            "grid_row": null,
            "grid_template_areas": null,
            "grid_template_columns": null,
            "grid_template_rows": null,
            "height": null,
            "justify_content": null,
            "justify_items": null,
            "left": null,
            "margin": null,
            "max_height": null,
            "max_width": null,
            "min_height": null,
            "min_width": null,
            "object_fit": null,
            "object_position": null,
            "order": null,
            "overflow": null,
            "overflow_x": null,
            "overflow_y": null,
            "padding": null,
            "right": null,
            "top": null,
            "visibility": null,
            "width": null
          }
        },
        "2f8b27c27d844291a180621db63b5c31": {
          "model_module": "@jupyter-widgets/controls",
          "model_module_version": "1.5.0",
          "model_name": "HBoxModel",
          "state": {
            "_dom_classes": [],
            "_model_module": "@jupyter-widgets/controls",
            "_model_module_version": "1.5.0",
            "_model_name": "HBoxModel",
            "_view_count": null,
            "_view_module": "@jupyter-widgets/controls",
            "_view_module_version": "1.5.0",
            "_view_name": "HBoxView",
            "box_style": "",
            "children": [
              "IPY_MODEL_cf3c6d87b7c7405290e7b0b101c074ed",
              "IPY_MODEL_bd4f71f5709c4065a31ed2b2e9b3888f",
              "IPY_MODEL_e481e189705442b1a53314c3723bc8d9"
            ],
            "layout": "IPY_MODEL_511d62e986ce4309ad2e2809a26f0088"
          }
        },
        "3174e2bd21eb4bccb817dd54132ba646": {
          "model_module": "@jupyter-widgets/base",
          "model_module_version": "1.2.0",
          "model_name": "LayoutModel",
          "state": {
            "_model_module": "@jupyter-widgets/base",
            "_model_module_version": "1.2.0",
            "_model_name": "LayoutModel",
            "_view_count": null,
            "_view_module": "@jupyter-widgets/base",
            "_view_module_version": "1.2.0",
            "_view_name": "LayoutView",
            "align_content": null,
            "align_items": null,
            "align_self": null,
            "border": null,
            "bottom": null,
            "display": null,
            "flex": null,
            "flex_flow": null,
            "grid_area": null,
            "grid_auto_columns": null,
            "grid_auto_flow": null,
            "grid_auto_rows": null,
            "grid_column": null,
            "grid_gap": null,
            "grid_row": null,
            "grid_template_areas": null,
            "grid_template_columns": null,
            "grid_template_rows": null,
            "height": null,
            "justify_content": null,
            "justify_items": null,
            "left": null,
            "margin": null,
            "max_height": null,
            "max_width": null,
            "min_height": null,
            "min_width": null,
            "object_fit": null,
            "object_position": null,
            "order": null,
            "overflow": null,
            "overflow_x": null,
            "overflow_y": null,
            "padding": null,
            "right": null,
            "top": null,
            "visibility": null,
            "width": null
          }
        },
        "3506a7e50976406fa2dc5db2266d395b": {
          "model_module": "@jupyter-widgets/base",
          "model_module_version": "1.2.0",
          "model_name": "LayoutModel",
          "state": {
            "_model_module": "@jupyter-widgets/base",
            "_model_module_version": "1.2.0",
            "_model_name": "LayoutModel",
            "_view_count": null,
            "_view_module": "@jupyter-widgets/base",
            "_view_module_version": "1.2.0",
            "_view_name": "LayoutView",
            "align_content": null,
            "align_items": null,
            "align_self": null,
            "border": null,
            "bottom": null,
            "display": null,
            "flex": null,
            "flex_flow": null,
            "grid_area": null,
            "grid_auto_columns": null,
            "grid_auto_flow": null,
            "grid_auto_rows": null,
            "grid_column": null,
            "grid_gap": null,
            "grid_row": null,
            "grid_template_areas": null,
            "grid_template_columns": null,
            "grid_template_rows": null,
            "height": null,
            "justify_content": null,
            "justify_items": null,
            "left": null,
            "margin": null,
            "max_height": null,
            "max_width": null,
            "min_height": null,
            "min_width": null,
            "object_fit": null,
            "object_position": null,
            "order": null,
            "overflow": null,
            "overflow_x": null,
            "overflow_y": null,
            "padding": null,
            "right": null,
            "top": null,
            "visibility": null,
            "width": null
          }
        },
        "511d62e986ce4309ad2e2809a26f0088": {
          "model_module": "@jupyter-widgets/base",
          "model_module_version": "1.2.0",
          "model_name": "LayoutModel",
          "state": {
            "_model_module": "@jupyter-widgets/base",
            "_model_module_version": "1.2.0",
            "_model_name": "LayoutModel",
            "_view_count": null,
            "_view_module": "@jupyter-widgets/base",
            "_view_module_version": "1.2.0",
            "_view_name": "LayoutView",
            "align_content": null,
            "align_items": null,
            "align_self": null,
            "border": null,
            "bottom": null,
            "display": null,
            "flex": null,
            "flex_flow": null,
            "grid_area": null,
            "grid_auto_columns": null,
            "grid_auto_flow": null,
            "grid_auto_rows": null,
            "grid_column": null,
            "grid_gap": null,
            "grid_row": null,
            "grid_template_areas": null,
            "grid_template_columns": null,
            "grid_template_rows": null,
            "height": null,
            "justify_content": null,
            "justify_items": null,
            "left": null,
            "margin": null,
            "max_height": null,
            "max_width": null,
            "min_height": null,
            "min_width": null,
            "object_fit": null,
            "object_position": null,
            "order": null,
            "overflow": null,
            "overflow_x": null,
            "overflow_y": null,
            "padding": null,
            "right": null,
            "top": null,
            "visibility": null,
            "width": null
          }
        },
        "6035f9b041a948fbbe4e24d887740c7a": {
          "model_module": "@jupyter-widgets/controls",
          "model_module_version": "1.5.0",
          "model_name": "ProgressStyleModel",
          "state": {
            "_model_module": "@jupyter-widgets/controls",
            "_model_module_version": "1.5.0",
            "_model_name": "ProgressStyleModel",
            "_view_count": null,
            "_view_module": "@jupyter-widgets/base",
            "_view_module_version": "1.2.0",
            "_view_name": "StyleView",
            "bar_color": null,
            "description_width": ""
          }
        },
        "7c8742c767dc464185479fdffa6584fd": {
          "model_module": "@jupyter-widgets/controls",
          "model_module_version": "1.5.0",
          "model_name": "DescriptionStyleModel",
          "state": {
            "_model_module": "@jupyter-widgets/controls",
            "_model_module_version": "1.5.0",
            "_model_name": "DescriptionStyleModel",
            "_view_count": null,
            "_view_module": "@jupyter-widgets/base",
            "_view_module_version": "1.2.0",
            "_view_name": "StyleView",
            "description_width": ""
          }
        },
        "9cea4d4004b448b69eedc9fb8f392ae5": {
          "model_module": "@jupyter-widgets/controls",
          "model_module_version": "1.5.0",
          "model_name": "DescriptionStyleModel",
          "state": {
            "_model_module": "@jupyter-widgets/controls",
            "_model_module_version": "1.5.0",
            "_model_name": "DescriptionStyleModel",
            "_view_count": null,
            "_view_module": "@jupyter-widgets/base",
            "_view_module_version": "1.2.0",
            "_view_name": "StyleView",
            "description_width": ""
          }
        },
        "bd4f71f5709c4065a31ed2b2e9b3888f": {
          "model_module": "@jupyter-widgets/controls",
          "model_module_version": "1.5.0",
          "model_name": "FloatProgressModel",
          "state": {
            "_dom_classes": [],
            "_model_module": "@jupyter-widgets/controls",
            "_model_module_version": "1.5.0",
            "_model_name": "FloatProgressModel",
            "_view_count": null,
            "_view_module": "@jupyter-widgets/controls",
            "_view_module_version": "1.5.0",
            "_view_name": "ProgressView",
            "bar_style": "success",
            "description": "",
            "description_tooltip": null,
            "layout": "IPY_MODEL_3506a7e50976406fa2dc5db2266d395b",
            "max": 3,
            "min": 0,
            "orientation": "horizontal",
            "style": "IPY_MODEL_6035f9b041a948fbbe4e24d887740c7a",
            "value": 3
          }
        },
        "cf3c6d87b7c7405290e7b0b101c074ed": {
          "model_module": "@jupyter-widgets/controls",
          "model_module_version": "1.5.0",
          "model_name": "HTMLModel",
          "state": {
            "_dom_classes": [],
            "_model_module": "@jupyter-widgets/controls",
            "_model_module_version": "1.5.0",
            "_model_name": "HTMLModel",
            "_view_count": null,
            "_view_module": "@jupyter-widgets/controls",
            "_view_module_version": "1.5.0",
            "_view_name": "HTMLView",
            "description": "",
            "description_tooltip": null,
            "layout": "IPY_MODEL_3174e2bd21eb4bccb817dd54132ba646",
            "placeholder": "​",
            "style": "IPY_MODEL_7c8742c767dc464185479fdffa6584fd",
            "value": "Loading checkpoint shards: 100%"
          }
        },
        "e481e189705442b1a53314c3723bc8d9": {
          "model_module": "@jupyter-widgets/controls",
          "model_module_version": "1.5.0",
          "model_name": "HTMLModel",
          "state": {
            "_dom_classes": [],
            "_model_module": "@jupyter-widgets/controls",
            "_model_module_version": "1.5.0",
            "_model_name": "HTMLModel",
            "_view_count": null,
            "_view_module": "@jupyter-widgets/controls",
            "_view_module_version": "1.5.0",
            "_view_name": "HTMLView",
            "description": "",
            "description_tooltip": null,
            "layout": "IPY_MODEL_2baed92fc4184cad86339ba2bbe450a8",
            "placeholder": "​",
            "style": "IPY_MODEL_9cea4d4004b448b69eedc9fb8f392ae5",
            "value": " 3/3 [00:45&lt;00:00, 12.31s/it]"
          }
        }
      }
    }
  },
  "nbformat": 4,
  "nbformat_minor": 0
}
